{
  "nbformat": 4,
  "nbformat_minor": 0,
  "metadata": {
    "colab": {
      "provenance": [],
      "authorship_tag": "ABX9TyP+z9ZgtBgDbiOJ34n1IC/V",
      "include_colab_link": true
    },
    "kernelspec": {
      "name": "python3",
      "display_name": "Python 3"
    },
    "language_info": {
      "name": "python"
    }
  },
  "cells": [
    {
      "cell_type": "markdown",
      "metadata": {
        "id": "view-in-github",
        "colab_type": "text"
      },
      "source": [
        "<a href=\"https://colab.research.google.com/github/Chathura-Jayasinghe/EN3150_Assignment_03/blob/main/NooooA02.ipynb\" target=\"_parent\"><img src=\"https://colab.research.google.com/assets/colab-badge.svg\" alt=\"Open In Colab\"/></a>"
      ]
    },
    {
      "cell_type": "code",
      "execution_count": null,
      "metadata": {
        "colab": {
          "base_uri": "https://localhost:8080/"
        },
        "id": "llLcsIN0CWKu",
        "outputId": "bc096340-58a6-4720-a2de-74f77d497555"
      },
      "outputs": [
        {
          "output_type": "stream",
          "name": "stdout",
          "text": [
            "       species  class_encoded\n",
            "0       Adelie              0\n",
            "1       Adelie              0\n",
            "2       Adelie              0\n",
            "4       Adelie              0\n",
            "5       Adelie              0\n",
            "..         ...            ...\n",
            "215  Chinstrap              1\n",
            "216  Chinstrap              1\n",
            "217  Chinstrap              1\n",
            "218  Chinstrap              1\n",
            "219  Chinstrap              1\n",
            "\n",
            "[214 rows x 2 columns]\n"
          ]
        }
      ],
      "source": [
        "import seaborn as sns\n",
        "import pandas as pd\n",
        "from sklearn . model_selection import train_test_split\n",
        "from sklearn . preprocessing import LabelEncoder\n",
        "from sklearn . linear_model import LogisticRegression\n",
        "from sklearn . metrics import accuracy_score\n",
        "\n",
        "# Load the penguins dataset\n",
        "df = sns . load_dataset (\"penguins\")\n",
        "df . dropna (inplace = True)\n",
        "\n",
        "# Filter rows for 'Adelie ' and 'Chinstrap ' classes\n",
        "selected_classes = ['Adelie', 'Chinstrap']\n",
        "df_filtered = df [df ['species']. isin (selected_classes)].copy () # Make a copy to avoid the warning\n",
        "\n",
        "# Initialize the LabelEncoder\n",
        "le = LabelEncoder()\n",
        "\n",
        "# Encode the species column\n",
        "y_encoded = le.fit_transform(df_filtered ['species'])\n",
        "df_filtered['class_encoded'] = y_encoded\n",
        "\n",
        "# Display the filtered and encoded DataFrame\n",
        "print (df_filtered[['species','class_encoded']])\n",
        "\n",
        "# Split the data into features (X) and target variable (y)\n",
        "y = df_filtered ['class_encoded'] # Target variable\n",
        "X = df_filtered . drop (['species', 'island', 'sex','class_encoded'] , axis =1)"
      ]
    },
    {
      "cell_type": "code",
      "source": [
        "# Split the data into training and testing sets\n",
        "X_train , X_test , y_train , y_test = train_test_split (X , y ,test_size =0.2 , random_state =42)\n",
        "#Train the logistic regression model . Here we are using saga solver to learn weights .\n",
        "logreg = LogisticRegression (solver ='liblinear')\n",
        "logreg . fit (X_train , y_train )\n",
        "\n",
        "# Predict on the testing data\n",
        "y_pred = logreg . predict ( X_test )\n",
        "\n",
        "# Evaluate the model\n",
        "accuracy = accuracy_score ( y_test , y_pred )\n",
        "print (\" Accuracy :\", accuracy )\n",
        "# Print model coefficients and intercept\n",
        "print (logreg.coef_ ,logreg.intercept_ )"
      ],
      "metadata": {
        "colab": {
          "base_uri": "https://localhost:8080/"
        },
        "id": "Zmb-uwjtC0Wh",
        "outputId": "8b26c085-708a-4061-e6ab-f05d558c4806"
      },
      "execution_count": null,
      "outputs": [
        {
          "output_type": "stream",
          "name": "stdout",
          "text": [
            " Accuracy : 1.0\n",
            "[[ 1.45422752 -0.93943994 -0.16571368 -0.00398663]] [-0.04793176]\n"
          ]
        }
      ]
    },
    {
      "cell_type": "code",
      "source": [
        "import seaborn as sns\n",
        "import pandas as pd\n",
        "from sklearn.model_selection import train_test_split\n",
        "from sklearn.preprocessing import LabelEncoder\n",
        "from sklearn.linear_model import LogisticRegression\n",
        "from sklearn.metrics import accuracy_score\n",
        "\n",
        "# Load the penguins dataset\n",
        "df = sns.load_dataset(\"penguins\")\n",
        "df.dropna(inplace=True)\n",
        "\n",
        "# Filter rows for 'Adelie' and 'Chinstrap' classes\n",
        "selected_classes = ['Adelie', 'Chinstrap']\n",
        "df_filtered = df[df['species'].isin(selected_classes)].copy()  # Make a copy to avoid the warning\n",
        "\n",
        "# Initialize the LabelEncoder for the target column (species)\n",
        "le = LabelEncoder()\n",
        "y_encoded = le.fit_transform(df_filtered['species'])\n",
        "df_filtered['class_encoded'] = y_encoded\n",
        "\n",
        "# Check the data types to find out which columns are categorical\n",
        "df_filtered.dtypes\n",
        "#df_filtered . head ()\n",
        "\n",
        "# Use pd.get_dummies() to encode the categorical columns (e.g., 'island', 'sex') into numeric values\n",
        "df_encoded = pd.get_dummies(df_filtered, columns=['island', 'sex'], drop_first=True)\n",
        "\n",
        "# Drop the original 'species' and 'class_encoded' columns from features (X)\n",
        "X = df_encoded.drop(['species', 'class_encoded'], axis=1)\n",
        "\n",
        "# Target variable (y)\n",
        "y = df_encoded['class_encoded']\n",
        "\n",
        "# Display the first few rows of X to ensure all features are numeric\n",
        "X.head()\n",
        "\n",
        "# Split the data into training and testing sets\n",
        "X_train, X_test, y_train, y_test = train_test_split(X, y, test_size=0.2, random_state=42)\n",
        "\n",
        "# Train the logistic regression model using the 'saga' solver\n",
        "logreg = LogisticRegression(solver='saga', max_iter=5000)  # Increased max_iter for convergence\n",
        "logreg.fit(X_train, y_train)\n",
        "\n",
        "# Predict on the testing data\n",
        "y_pred = logreg.predict(X_test)\n",
        "\n",
        "# Evaluate the model\n",
        "accuracy = accuracy_score(y_test, y_pred)\n",
        "print(\"Accuracy:\", accuracy)\n",
        "\n",
        "# Print model coefficients and intercept\n",
        "print(\"Coefficients:\", logreg.coef_)\n",
        "print(\"Intercept:\", logreg.intercept_)\n"
      ],
      "metadata": {
        "id": "kTYWOQlqDPOH",
        "colab": {
          "base_uri": "https://localhost:8080/"
        },
        "outputId": "618f870f-fea8-4d93-cf97-48924b0d8eca"
      },
      "execution_count": null,
      "outputs": [
        {
          "output_type": "stream",
          "name": "stdout",
          "text": [
            "Accuracy: 0.5813953488372093\n",
            "Coefficients: [[ 2.76467796e-03 -8.20667335e-05  4.79075776e-04 -2.87513768e-04\n",
            "   1.86229277e-04 -1.05131750e-04  1.04663808e-05]]\n",
            "Intercept: [-8.43339115e-06]\n"
          ]
        },
        {
          "output_type": "stream",
          "name": "stderr",
          "text": [
            "/usr/local/lib/python3.10/dist-packages/sklearn/linear_model/_sag.py:349: ConvergenceWarning: The max_iter was reached which means the coef_ did not converge\n",
            "  warnings.warn(\n"
          ]
        }
      ]
    }
  ]
}